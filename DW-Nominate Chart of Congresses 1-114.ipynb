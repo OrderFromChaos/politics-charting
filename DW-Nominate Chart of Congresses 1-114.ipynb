{
 "cells": [
  {
   "cell_type": "code",
   "execution_count": 39,
   "metadata": {
    "collapsed": false
   },
   "outputs": [],
   "source": [
    "import matplotlib.pyplot as plt\n",
    "from selenium import webdriver\n",
    "from random import randint as rand # If someone wants a random year"
   ]
  },
  {
   "cell_type": "code",
   "execution_count": 2,
   "metadata": {
    "collapsed": true
   },
   "outputs": [],
   "source": [
    "browser = webdriver.Chrome(r'/home/order/Videos/chromedriver/chromedriver')\n",
    "browser.get('ftp://k7moa.com/junkord/HANDSL01114A20_STAND_ALONE_31.DAT')\n",
    "browser.implicitly_wait(30)\n",
    "text = browser.find_element_by_css_selector('body').text # It's just a text document\n",
    "browser.close()"
   ]
  },
  {
   "cell_type": "code",
   "execution_count": 40,
   "metadata": {
    "collapsed": false,
    "scrolled": false
   },
   "outputs": [
    {
     "name": "stdout",
     "output_type": "stream",
     "text": [
      "Congress 48: (1883-1884)\n"
     ]
    },
    {
     "data": {
      "image/png": "[encoded data removed]",
      "text/plain": [
       "<matplotlib.figure.Figure at 0x7f8f38e84208>"
      ]
     },
     "metadata": {},
     "output_type": "display_data"
    }
   ],
   "source": [
    "def make_nice(congress_list):\n",
    "    sliced = [[x[1:4], x[7:12], x[14:16], x[19], x[22:29], x[33:36], x[38], x[41], x[45:55], x[59:65], x[68:74], x[79:89], x[92:96], x[100:103], x[107:]] for x in congress_list]\n",
    "    sliced = [[y.strip(' ') for y in x] for x in sliced]\n",
    "    numbers = [[int(x[0]),int(x[1]),int(x[2]),int(x[3]),x[4],int(x[5]),int(x[6]),int(x[7]),x[8],float(x[9]),float(x[10]),float(x[11]),int(x[12]),int(x[13]),float(x[14])] for x in sliced]\n",
    "    return numbers\n",
    "\n",
    "def show_congress(congress, table):\n",
    "    if isinstance(congress,int) == True:\n",
    "        congress = str(congress)\n",
    "    assert isinstance(congress, float) == False, 'There is no congress ' + congress + '. Use an int next time'\n",
    "    current_congress = [x for x in table if x[1:4].strip(' ') == congress]\n",
    "    numbers = make_nice(current_congress)\n",
    "    \n",
    "    # Information for congress_years grabbed from https://www.senate.gov/reference/Years_to_Congress.htm\n",
    "    congress_years = [[1, '1789-1790'], [2, '1791-1792'], [3, '1793-1794'], [4, '1795-1796'], [5, '1797-1798'], [6, '1799-1800'], [7, '1801-1802'], [8, '1803-1804'], \n",
    "     [9, '1805-1806'], [10, '1807-1808'], [11, '1809-1810'], [12, '1811-1812'], [13, '1813-1814'], [14, '1815-1816'], [15, '1817-1818'], [16, '1819-1820'], \n",
    "     [17, '1821-1822'], [18, '1823-1824'], [19, '1825-1826'], [20, '1827-1828'], [21, '1829-1830'], [22, '1831-1832'], [23, '1833-1834'], [24, '1835-1836'], \n",
    "     [25, '1837-1838'], [26, '1839-1840'], [27, '1841-1842'], [28, '1843-1844'], [29, '1845-1846'], [30, '1847-1848'], [31, '1849-1850'], [32, '1851-1852'], \n",
    "     [33, '1853-1854'], [34, '1855-1856'], [35, '1857-1858'], [36, '1859-1860'], [37, '1861-1862'], [38, '1863-1864'], [39, '1865-1866'], [40, '1867-1868'], \n",
    "     [41, '1869-1870'], [42, '1871-1872'], [43, '1873-1874'], [44, '1875-1876'], [45, '1877-1878'], [46, '1879-1880'], [47, '1881-1882'], [48, '1883-1884'], \n",
    "     [49, '1885-1886'], [50, '1887-1888'], [51, '1889-1890'], [52, '1891-1892'], [53, '1893-1894'], [54, '1895-1896'], [55, '1897-1898'], [56, '1899-1900'], \n",
    "     [57, '1901-1902'], [58, '1903-1904'], [59, '1905-1906'], [60, '1907-1908'], [61, '1909-1910'], [62, '1911-1912'], [63, '1913-1914'], [64, '1915-1916'], \n",
    "     [65, '1917-1918'], [66, '1919-1920'], [67, '1921-1922'], [68, '1923-1924'], [69, '1925-1926'], [70, '1927-1928'], [71, '1929-1930'], [72, '1931-1932'], \n",
    "     [73, '1933-1934'], [74, '1935-1936'], [75, '1937-1938'], [76, '1939-1940'], [77, '1941-1942'], [78, '1943-1944'], [79, '1945-1946'], [80, '1947-1948'], \n",
    "     [81, '1949-1950'], [82, '1951-1952'], [83, '1953-1954'], [84, '1955-1956'], [85, '1957-1958'], [86, '1959-1960'], [87, '1961-1962'], [88, '1963-1964'], \n",
    "     [89, '1965-1966'], [90, '1967-1968'], [91, '1969-1970'], [92, '1971-1972'], [93, '1973-1974'], [94, '1975-1976'], [95, '1977-1978'], [96, '1979-1980'], \n",
    "     [97, '1981-1982'], [98, '1983-1984'], [99, '1985-1986'], [100, '1987-1988'], [101, '1989-1990'], [102, '1991-1992'], [103, '1993-1994'], [104, '1995-1996'], \n",
    "     [105, '1997-1998'], [106, '1999-2000'], [107, '2001-2002'], [108, '2003-2004'], [109, '2005-2006'], [110, '2007-2008'], [111, '2009-2010'], [112, '2011-2012'], \n",
    "     [113, '2013-2014'], [114, '2015-2016'], [115, '2017-2018']]\n",
    "    \n",
    "    specific_years = congress_years[int(congress)-1][1]\n",
    "    print('Congress ' + congress + ': (' + specific_years + ')')\n",
    "    # plt.clf() # Probably unnecessary in Jupyter\n",
    "    dems = [[x[9],x[10]] for x in numbers if x[5] == 100]\n",
    "    repubs = [[x[9],x[10]] for x in numbers if x[5] == 200]\n",
    "    others = [[x[9],x[10]] for x in numbers if x[5] != 100 and x[5] != 200]\n",
    "    plt.scatter([x[0] for x in dems], [x[1] for x in dems], color='b')\n",
    "    plt.scatter([x[0] for x in repubs], [x[1] for x in repubs], color='r')\n",
    "    plt.scatter([x[0] for x in others], [x[1] for x in others], color='y')\n",
    "    plt.axis([-1, 1, -1, 1])\n",
    "    plt.show()\n",
    "\n",
    "main_table = text.split('\\n')\n",
    "show_congress(int(rand(1,114)), main_table)\n",
    "# for i in range(1,115):\n",
    "#     #print('Congress ' + str(i) + ':')\n",
    "#     show_congress(i, main_table)"
   ]
  }
 ],
 "metadata": {
  "kernelspec": {
   "display_name": "Python 3",
   "language": "python",
   "name": "python3"
  },
  "language_info": {
   "codemirror_mode": {
    "name": "ipython",
    "version": 3
   },
   "file_extension": ".py",
   "mimetype": "text/x-python",
   "name": "python",
   "nbconvert_exporter": "python",
   "pygments_lexer": "ipython3",
   "version": "3.6.0"
  }
 },
 "nbformat": 4,
 "nbformat_minor": 2
}
